{
 "cells": [
  {
   "cell_type": "markdown",
   "metadata": {},
   "source": [
    "Para este ejercicio, escribirás una lógica condicional que imprima una advertencia si un asteroide se acerca a la Tierra demasiado rápido. La velocidad del asteroide varía dependiendo de lo cerca que esté del sol, y cualquier velocidad superior a 25 kilómetros por segundo (km/s) merece una advertencia.\n",
    "\n",
    "Un asteroide se acerca, y viaja a una velocidad de 49 km/s."
   ]
  },
  {
   "cell_type": "code",
   "execution_count": 9,
   "metadata": {},
   "outputs": [
    {
     "name": "stdout",
     "output_type": "stream",
     "text": [
      "Su velocidad es normal :D\n"
     ]
    }
   ],
   "source": [
    "asteroide= 20\n",
    "alerta= asteroide - 25\n",
    "if (asteroide>25):\n",
    "    print(f\"Advertencia la velocidad que tienes se excede por {alerta} kilometros\")\n",
    "else:\n",
    "    print(\"Su velocidad es normal :D\")\n",
    "\n",
    "#Para que sea en falso o continue su vida normal debe de elegirse números en el rango de 1-24"
   ]
  },
  {
   "cell_type": "markdown",
   "metadata": {},
   "source": [
    "Si un asteroide entra en la atmósfera de la Tierra a una velocidad mayor o igual a 20 km/s, a veces produce un rayo de luz que se puede ver desde la Tierra. Escribe la lógica condicional que usa declaraciones if, else, y elif para alertar a las personas de todo el mundo que deben buscar un asteroide en el cielo. ¡Hay uno que se dirige a la tierra ahora a una velocidad de 19 km/s!"
   ]
  },
  {
   "cell_type": "code",
   "execution_count": 16,
   "metadata": {},
   "outputs": [
    {
     "name": "stdout",
     "output_type": "stream",
     "text": [
      "No se encontro ninguna luz en el día de hoy :C\n"
     ]
    }
   ],
   "source": [
    "asteroide=19\n",
    "\n",
    "if(asteroide==20):\n",
    "    print(\"Observa tienes una luz arriba de ti!!\")\n",
    "elif(asteroide>20):\n",
    "    print(\"Observa tienes un luz arriba de ti!!\")\n",
    "else:\n",
    "    print(\"No se encontro ninguna luz en el día de hoy :C\")\n",
    "\n",
    "#Para haber entrado en el true en este código era necesario solamente que la variable asteroide valiera de 20 en adelante"
   ]
  },
  {
   "cell_type": "markdown",
   "metadata": {},
   "source": [
    "En este ejercicio, aprenderás información más matizada sobre cuándo los asteroides representan un peligro para la Tierra, y utilizarás esa información para mejorar nuestro sistema de advertencia. Aquí está la nueva información que necesitas saber:\n",
    "\n",
    "*Los asteroides de menos de 25 metros en su dimensión más grande probablemente se quemarán a medida que entren en la atmósfera de la Tierra.\n",
    "\n",
    "Si una pieza de un asteroide que es más grande que 25 metros pero más pequeña que 1000 metros golpeara la Tierra, causaría mucho daño.\n",
    "También discutimos en el ejercicio anterior que:\n",
    "\n",
    "La velocidad del asteroide varía en función de lo cerca que esté del sol, y cualquier velocidad superior a 25 kilómetros por segundo (km/s) merece una advertencia.\n",
    "Si un asteroide entra en la atmósfera de la Tierra a una velocidad mayor o igual a 20 km/s, a veces produce un rayo de luz que se puede ver desde la Tierra."
   ]
  },
  {
   "cell_type": "code",
   "execution_count": 17,
   "metadata": {},
   "outputs": [
    {
     "name": "stdout",
     "output_type": "stream",
     "text": [
      "Corre que hará un gran daño en la tierra :O\n",
      "\n",
      "Salió una luz del asteroide!\n"
     ]
    }
   ],
   "source": [
    "size_asteroid= 30\n",
    "speed_asteroid=21\n",
    "alerta= speed_asteroid - 25\n",
    "\n",
    "if size_asteroid<25:\n",
    "    print(\"Se quemo al entrar a la tierra :c\\n\")\n",
    "elif ((size_asteroid>25) and (size_asteroid<1000)):\n",
    "    print(\"Corre que hará un gran daño en la tierra :O\\n\")\n",
    "    if(speed_asteroid>25):\n",
    "        print(f\"Advertencia la velocidad que tienes del asteroide se excede por {alerta} kilometros\")\n",
    "    elif (speed_asteroid>=20) or (speed_asteroid<25): \n",
    "        print(\"Salió una luz del asteroide!\")\n",
    "            \n",
    "#Aqui en este ejercicio podemos obtener diferentes salidas donde la primera depende del tamaño que fuera menor a 25\n",
    "#que no se uso la velocidad ya que, al no entrar a la tierra no se vería su efecto de la luz a como lo analize y tenemos\n",
    "#otras condiciones que dependen de la velocidad con la que entra el asteroide y corresponde a un valor en el caso para \n",
    "#obtener la alerta que sea mayor a 25 como es el caso de 30 que nos daría una alarma"
   ]
  }
 ],
 "metadata": {
  "interpreter": {
   "hash": "38a22d7444018b4729f5e9203e5a55506646036b067d9f8ebe2d1b80326d6cbe"
  },
  "kernelspec": {
   "display_name": "Python 3.9.10 64-bit (windows store)",
   "language": "python",
   "name": "python3"
  },
  "language_info": {
   "codemirror_mode": {
    "name": "ipython",
    "version": 3
   },
   "file_extension": ".py",
   "mimetype": "text/x-python",
   "name": "python",
   "nbconvert_exporter": "python",
   "pygments_lexer": "ipython3",
   "version": "3.9.10"
  },
  "orig_nbformat": 4
 },
 "nbformat": 4,
 "nbformat_minor": 2
}
