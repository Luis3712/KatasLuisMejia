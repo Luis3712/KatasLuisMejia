{
 "cells": [
  {
   "cell_type": "markdown",
   "metadata": {},
   "source": [
    "Python proporciona operadores aritméticos comunes para que puedas realizar operaciones matemáticas en tu código. Estos incluyen las cuatro operaciones principales de suma, resta, multiplicación y división.\n",
    "\n",
    "Exploremos cómo podemos crear un programa que pueda calcular la distancia entre dos planetas. Comenzaremos usando dos distancias de planetas: Tierra (149.597.870 km) y Júpiter (778.547.200 km)."
   ]
  },
  {
   "cell_type": "code",
   "execution_count": 4,
   "metadata": {},
   "outputs": [
    {
     "name": "stdout",
     "output_type": "stream",
     "text": [
      "La distancia entre ambos en Km es de  628949330\n",
      "La distancia entre ambos en millas es de  390577533\n"
     ]
    }
   ],
   "source": [
    "millas= 0.621\n",
    "Tierra= 149597870\n",
    "Jupiter= 778547200\n",
    "diferencia= Jupiter-Tierra\n",
    "print(f\"La distancia entre ambos en Km es de  {int(diferencia)}\")\n",
    "print(f\"La distancia entre ambos en millas es de  {int(diferencia*millas)}\")"
   ]
  },
  {
   "cell_type": "markdown",
   "metadata": {},
   "source": [
    "Crear una aplicación para trabajar con números y entrada de usuario\n",
    "Con frecuencia, deberás convertir los valores de cadena en números para realizar correctamente diferentes operaciones o determinar el valor absoluto de un número.\n",
    "\n",
    "Para crear nuestra aplicación, queremos leer la distancia del sol para dos planetas, y luego mostrar la distancia entre los planetas. Haremos esto usando input para leer los valores, int para convertir a entero y luego abs para convertir el resultado en su valor absoluto."
   ]
  },
  {
   "cell_type": "code",
   "execution_count": 6,
   "metadata": {},
   "outputs": [
    {
     "name": "stdout",
     "output_type": "stream",
     "text": [
      "La distancia del primer planeta que introdujiste fue 108200000 y la del segundo planeta fue 57900000\n",
      "La distancia entre ambos en Km es de  50300000\n",
      "La distancia entre ambos en millas es de  31236300\n"
     ]
    }
   ],
   "source": [
    "Planeta1= int(input(\"Introduce la distancia del primer planeta en Km:  \"))\n",
    "Planeta2= int(input(\"Introduce la distancia del segundo planeta en Km:  \"))\n",
    "millas= 0.621\n",
    "print(f\"La distancia del primer planeta que introdujiste fue {Planeta1} y la del segundo planeta fue {Planeta2}\")\n",
    "diferencia= abs(Planeta2-Planeta1)\n",
    "\n",
    "print(f\"La distancia entre ambos en Km es de  {int(diferencia)}\")\n",
    "print(f\"La distancia entre ambos en millas es de  {int(diferencia*millas)}\")"
   ]
  }
 ],
 "metadata": {
  "interpreter": {
   "hash": "38a22d7444018b4729f5e9203e5a55506646036b067d9f8ebe2d1b80326d6cbe"
  },
  "kernelspec": {
   "display_name": "Python 3.9.10 64-bit (windows store)",
   "language": "python",
   "name": "python3"
  },
  "language_info": {
   "codemirror_mode": {
    "name": "ipython",
    "version": 3
   },
   "file_extension": ".py",
   "mimetype": "text/x-python",
   "name": "python",
   "nbconvert_exporter": "python",
   "pygments_lexer": "ipython3",
   "version": "3.9.10"
  },
  "orig_nbformat": 4
 },
 "nbformat": 4,
 "nbformat_minor": 2
}
